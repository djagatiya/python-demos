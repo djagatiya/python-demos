{
 "cells": [
  {
   "cell_type": "code",
   "execution_count": 73,
   "metadata": {},
   "outputs": [],
   "source": [
    "import numpy as np\n",
    "import pandas as pd\n",
    "import matplotlib.pyplot as plt"
   ]
  },
  {
   "cell_type": "code",
   "execution_count": 67,
   "metadata": {},
   "outputs": [],
   "source": [
    "log_loss = lambda y_predict : np.log(y_predict)\n",
    "negative_log_loss = lambda y_predict : -np.log(y_predict)\n",
    "\n",
    "def bce_loss(y, predict):\n",
    "    _ans1 = y * np.log(predict)\n",
    "    _ans2 = (1-y) * np.log(1-predict)\n",
    "    print(y, predict, _ans1, _ans2)\n",
    "    return -(_ans1 + _ans2)"
   ]
  },
  {
   "cell_type": "code",
   "execution_count": 68,
   "metadata": {},
   "outputs": [
    {
     "name": "stdout",
     "output_type": "stream",
     "text": [
      "1 0.01 -4.605170185988091 -0.0\n",
      "1 0.2 -1.6094379124341003 -0.0\n",
      "1 0.8 -0.2231435513142097 -0.0\n",
      "1 0.9 -0.10536051565782628 -0.0\n",
      "1 1 0.0 nan\n"
     ]
    },
    {
     "name": "stderr",
     "output_type": "stream",
     "text": [
      "C:\\Users\\divye\\AppData\\Local\\Temp/ipykernel_15664/2037398810.py:6: RuntimeWarning: divide by zero encountered in log\n",
      "  _ans2 = (1-y) * np.log(1-predict)\n",
      "C:\\Users\\divye\\AppData\\Local\\Temp/ipykernel_15664/2037398810.py:6: RuntimeWarning: invalid value encountered in double_scalars\n",
      "  _ans2 = (1-y) * np.log(1-predict)\n"
     ]
    },
    {
     "data": {
      "text/html": [
       "<div>\n",
       "<style scoped>\n",
       "    .dataframe tbody tr th:only-of-type {\n",
       "        vertical-align: middle;\n",
       "    }\n",
       "\n",
       "    .dataframe tbody tr th {\n",
       "        vertical-align: top;\n",
       "    }\n",
       "\n",
       "    .dataframe thead th {\n",
       "        text-align: right;\n",
       "    }\n",
       "</style>\n",
       "<table border=\"1\" class=\"dataframe\">\n",
       "  <thead>\n",
       "    <tr style=\"text-align: right;\">\n",
       "      <th></th>\n",
       "      <th>True</th>\n",
       "      <th>Predicted</th>\n",
       "      <th>Loss1</th>\n",
       "      <th>Loss2</th>\n",
       "      <th>bce_loss</th>\n",
       "    </tr>\n",
       "  </thead>\n",
       "  <tbody>\n",
       "    <tr>\n",
       "      <th>0</th>\n",
       "      <td>1</td>\n",
       "      <td>0.01</td>\n",
       "      <td>-4.605170</td>\n",
       "      <td>4.605170</td>\n",
       "      <td>4.605170</td>\n",
       "    </tr>\n",
       "    <tr>\n",
       "      <th>1</th>\n",
       "      <td>1</td>\n",
       "      <td>0.20</td>\n",
       "      <td>-1.609438</td>\n",
       "      <td>1.609438</td>\n",
       "      <td>1.609438</td>\n",
       "    </tr>\n",
       "    <tr>\n",
       "      <th>2</th>\n",
       "      <td>1</td>\n",
       "      <td>0.80</td>\n",
       "      <td>-0.223144</td>\n",
       "      <td>0.223144</td>\n",
       "      <td>0.223144</td>\n",
       "    </tr>\n",
       "    <tr>\n",
       "      <th>3</th>\n",
       "      <td>1</td>\n",
       "      <td>0.90</td>\n",
       "      <td>-0.105361</td>\n",
       "      <td>0.105361</td>\n",
       "      <td>0.105361</td>\n",
       "    </tr>\n",
       "    <tr>\n",
       "      <th>4</th>\n",
       "      <td>1</td>\n",
       "      <td>1.00</td>\n",
       "      <td>0.000000</td>\n",
       "      <td>-0.000000</td>\n",
       "      <td>NaN</td>\n",
       "    </tr>\n",
       "  </tbody>\n",
       "</table>\n",
       "</div>"
      ],
      "text/plain": [
       "   True  Predicted     Loss1     Loss2  bce_loss\n",
       "0     1       0.01 -4.605170  4.605170  4.605170\n",
       "1     1       0.20 -1.609438  1.609438  1.609438\n",
       "2     1       0.80 -0.223144  0.223144  0.223144\n",
       "3     1       0.90 -0.105361  0.105361  0.105361\n",
       "4     1       1.00  0.000000 -0.000000       NaN"
      ]
     },
     "execution_count": 68,
     "metadata": {},
     "output_type": "execute_result"
    }
   ],
   "source": [
    "data = [(1, 0.01), (1, 0.2), (1, 0.8), (1, 0.9), (1, 1)]\n",
    "loss_data = [(*x, log_loss(x[1]), negative_log_loss(x[1]), bce_loss(*x)) for x in data]\n",
    "pd.DataFrame(loss_data, columns=[\"True\", \"Predicted\", \"Loss1\", \"Loss2\", \"bce_loss\"])"
   ]
  },
  {
   "cell_type": "code",
   "execution_count": 70,
   "metadata": {},
   "outputs": [
    {
     "name": "stdout",
     "output_type": "stream",
     "text": [
      "1 0.9 -0.10536051565782628 -0.0\n",
      "0 0.8 -0.0 -1.6094379124341005\n",
      "1 0.2 -1.6094379124341003 -0.0\n",
      "0.3 0.3 -0.3611918412977808 -0.2496724607571127\n",
      "0.3 0.8 -0.06694306539426291 -1.1266065387038702\n"
     ]
    },
    {
     "data": {
      "text/html": [
       "<div>\n",
       "<style scoped>\n",
       "    .dataframe tbody tr th:only-of-type {\n",
       "        vertical-align: middle;\n",
       "    }\n",
       "\n",
       "    .dataframe tbody tr th {\n",
       "        vertical-align: top;\n",
       "    }\n",
       "\n",
       "    .dataframe thead th {\n",
       "        text-align: right;\n",
       "    }\n",
       "</style>\n",
       "<table border=\"1\" class=\"dataframe\">\n",
       "  <thead>\n",
       "    <tr style=\"text-align: right;\">\n",
       "      <th></th>\n",
       "      <th>True</th>\n",
       "      <th>Predicted</th>\n",
       "      <th>Loss</th>\n",
       "      <th>Loss2</th>\n",
       "    </tr>\n",
       "  </thead>\n",
       "  <tbody>\n",
       "    <tr>\n",
       "      <th>0</th>\n",
       "      <td>1.0</td>\n",
       "      <td>0.9</td>\n",
       "      <td>0.105361</td>\n",
       "      <td>0.1</td>\n",
       "    </tr>\n",
       "    <tr>\n",
       "      <th>1</th>\n",
       "      <td>0.0</td>\n",
       "      <td>0.8</td>\n",
       "      <td>1.609438</td>\n",
       "      <td>0.8</td>\n",
       "    </tr>\n",
       "    <tr>\n",
       "      <th>2</th>\n",
       "      <td>1.0</td>\n",
       "      <td>0.2</td>\n",
       "      <td>1.609438</td>\n",
       "      <td>0.8</td>\n",
       "    </tr>\n",
       "    <tr>\n",
       "      <th>3</th>\n",
       "      <td>0.3</td>\n",
       "      <td>0.3</td>\n",
       "      <td>0.610864</td>\n",
       "      <td>0.0</td>\n",
       "    </tr>\n",
       "    <tr>\n",
       "      <th>4</th>\n",
       "      <td>0.3</td>\n",
       "      <td>0.8</td>\n",
       "      <td>1.193550</td>\n",
       "      <td>0.5</td>\n",
       "    </tr>\n",
       "  </tbody>\n",
       "</table>\n",
       "</div>"
      ],
      "text/plain": [
       "   True  Predicted      Loss  Loss2\n",
       "0   1.0        0.9  0.105361    0.1\n",
       "1   0.0        0.8  1.609438    0.8\n",
       "2   1.0        0.2  1.609438    0.8\n",
       "3   0.3        0.3  0.610864    0.0\n",
       "4   0.3        0.8  1.193550    0.5"
      ]
     },
     "execution_count": 70,
     "metadata": {},
     "output_type": "execute_result"
    }
   ],
   "source": [
    "def custom_loss(y, predict):\n",
    "    ans = np.abs(y - predict)\n",
    "    return ans\n",
    "\n",
    "data = [(1, 0.9), (0, 0.8), (1, 0.2), (0.3, 0.3), (0.3, 0.8)]\n",
    "data = [(*x, bce_loss(*x), custom_loss(*x)) for x in data]\n",
    "pd.DataFrame(data, columns=[\"True\", \"Predicted\", \"Loss\", \"Loss2\"])"
   ]
  },
  {
   "cell_type": "code",
   "execution_count": 75,
   "metadata": {},
   "outputs": [],
   "source": [
    "data = np.arange(0.01,1,0.01)\n",
    "logs = np.log(data)"
   ]
  },
  {
   "cell_type": "code",
   "execution_count": 76,
   "metadata": {},
   "outputs": [
    {
     "data": {
      "text/plain": [
       "<matplotlib.collections.PathCollection at 0x1caa0cf8700>"
      ]
     },
     "execution_count": 76,
     "metadata": {},
     "output_type": "execute_result"
    },
    {
     "data": {
      "image/png": "[encoded data removed]",
      "text/plain": [
       "<Figure size 432x288 with 1 Axes>"
      ]
     },
     "metadata": {
      "needs_background": "light"
     },
     "output_type": "display_data"
    }
   ],
   "source": [
    "plt.scatter(data, logs)"
   ]
  },
  {
   "cell_type": "code",
   "execution_count": null,
   "metadata": {},
   "outputs": [],
   "source": []
  }
 ],
 "metadata": {
  "interpreter": {
   "hash": "51135cdbcdc0b5df9577ba2d61058e56661da3a483323d7567c8900ad1965557"
  },
  "kernelspec": {
   "display_name": "Python 3.8.5 64-bit ('pet_finder_env': conda)",
   "language": "python",
   "name": "python3"
  },
  "language_info": {
   "codemirror_mode": {
    "name": "ipython",
    "version": 3
   },
   "file_extension": ".py",
   "mimetype": "text/x-python",
   "name": "python",
   "nbconvert_exporter": "python",
   "pygments_lexer": "ipython3",
   "version": "3.8.5"
  },
  "orig_nbformat": 4
 },
 "nbformat": 4,
 "nbformat_minor": 2
}
