{
 "cells": [
  {
   "cell_type": "code",
   "execution_count": 15,
   "id": "747c194a-7889-410b-bd7c-d60c517d133e",
   "metadata": {},
   "outputs": [
    {
     "name": "stdout",
     "output_type": "stream",
     "text": [
      "8\n"
     ]
    }
   ],
   "source": [
    "def addition(num1, num2):\n",
    "    return num1 + num2\n",
    "\n",
    "print(addition(3, 5))"
   ]
  },
  {
   "cell_type": "code",
   "execution_count": 16,
   "id": "f4df2cba-5b5b-4b64-a345-1e8d9734bd9f",
   "metadata": {},
   "outputs": [
    {
     "name": "stdout",
     "output_type": "stream",
     "text": [
      "6\n"
     ]
    }
   ],
   "source": [
    "def addition(nums):\n",
    "    total = 0\n",
    "    for i in nums:\n",
    "        total += i\n",
    "    return total\n",
    "\n",
    "print(addition([1,2,3]))"
   ]
  },
  {
   "cell_type": "code",
   "execution_count": 17,
   "id": "fc5e7043-1c22-45ca-9468-f40e3e6ed1ba",
   "metadata": {},
   "outputs": [
    {
     "name": "stdout",
     "output_type": "stream",
     "text": [
      "6\n"
     ]
    }
   ],
   "source": [
    "def addition(*nums):\n",
    "    total = 0\n",
    "    for i in nums:\n",
    "        total += i\n",
    "    return total\n",
    "\n",
    "print(addition(1,2,3)) # more convenient"
   ]
  },
  {
   "cell_type": "code",
   "execution_count": 18,
   "id": "e2098e61-c527-4e39-a610-7e8fdcf98d6e",
   "metadata": {},
   "outputs": [
    {
     "name": "stdout",
     "output_type": "stream",
     "text": [
      "<class 'tuple'>\n",
      "None\n"
     ]
    }
   ],
   "source": [
    "def sample(*nums):\n",
    "    print(type(nums))\n",
    "    \n",
    "print(sample(1,2,3)) # it's a tuple"
   ]
  },
  {
   "cell_type": "code",
   "execution_count": 19,
   "id": "aa2d54c1-c719-4051-a8d9-31212070901a",
   "metadata": {},
   "outputs": [
    {
     "name": "stdout",
     "output_type": "stream",
     "text": [
      "a : 1\n",
      "b : 2\n",
      "c : (3, 4, 5, 6)\n",
      "None\n"
     ]
    }
   ],
   "source": [
    "def sample(a,b,*c):\n",
    "    print(\"a :\", a)\n",
    "    print(\"b :\", b)\n",
    "    print(\"c :\", c)\n",
    "    \n",
    "print(sample(1,2,3,4,5,6))"
   ]
  },
  {
   "cell_type": "code",
   "execution_count": 20,
   "id": "3333abaf-79f4-4505-b91e-81b4f9a6daf9",
   "metadata": {},
   "outputs": [
    {
     "name": "stdout",
     "output_type": "stream",
     "text": [
      "a : 1\n",
      "b : 2\n",
      "c : (3, 4, 5, 100)\n",
      "d : 10\n",
      "None\n"
     ]
    }
   ],
   "source": [
    "def sample(a,b,*c,d=10):\n",
    "    print(\"a :\", a)\n",
    "    print(\"b :\", b)\n",
    "    print(\"c :\", c)\n",
    "    print(\"d :\", d)\n",
    "    \n",
    "print(sample(1,2,3,4,5,100))"
   ]
  },
  {
   "cell_type": "code",
   "execution_count": 21,
   "id": "0a5c6012-6548-41ec-a63d-a625cbda6f2d",
   "metadata": {},
   "outputs": [
    {
     "name": "stdout",
     "output_type": "stream",
     "text": [
      "10\n"
     ]
    }
   ],
   "source": [
    "def addition(*nums):\n",
    "    total = 0\n",
    "    for i in nums:\n",
    "        total += i\n",
    "    return total\n",
    "\n",
    "data_list = [1,2,3,4]\n",
    "print(addition(*data_list)) # un-packed"
   ]
  },
  {
   "cell_type": "code",
   "execution_count": 22,
   "id": "71b30e0f-687b-4aa7-a661-f4e6670c1d15",
   "metadata": {},
   "outputs": [
    {
     "name": "stdout",
     "output_type": "stream",
     "text": [
      "[1, 2, 10, 12, 13, 500, 14, 15, 16]\n"
     ]
    }
   ],
   "source": [
    "list1 = [10,12,13]\n",
    "list2 = [14,15,16]\n",
    "all_data = [1,2, *list1, 500, *list2] # un-packed\n",
    "print(all_data)"
   ]
  },
  {
   "cell_type": "code",
   "execution_count": 24,
   "id": "383ec55d-003c-4441-9d9f-4bf1f8297eb1",
   "metadata": {},
   "outputs": [
    {
     "name": "stdout",
     "output_type": "stream",
     "text": [
      "10 [15, 20, 50, 19] 60 <class 'list'>\n"
     ]
    }
   ],
   "source": [
    "a, *b, c = [10, 15, 20, 50, 19, 60]\n",
    "print(a, b, c, type(b))"
   ]
  },
  {
   "cell_type": "code",
   "execution_count": 27,
   "id": "678f8755-e2d8-4d59-bd31-b2bf9478ed68",
   "metadata": {},
   "outputs": [
    {
     "name": "stdout",
     "output_type": "stream",
     "text": [
      "{'a': 10, 'b': 20}\n"
     ]
    }
   ],
   "source": [
    "def sample(**vocab):\n",
    "    print(vocab)\n",
    "    \n",
    "sample(a=10, b=20)"
   ]
  },
  {
   "cell_type": "code",
   "execution_count": 28,
   "id": "da3555d9-178e-4dbc-9dfd-eba7d5cc1a55",
   "metadata": {},
   "outputs": [
    {
     "name": "stdout",
     "output_type": "stream",
     "text": [
      "{'a': 20, 'b': 40, 'c': 40}\n"
     ]
    }
   ],
   "source": [
    "d1 = dict(a=20,b=40,c=40)\n",
    "sample(**d1) # un-packed"
   ]
  },
  {
   "cell_type": "code",
   "execution_count": 29,
   "id": "97bcfaf7-4e80-42e3-a7fd-eb1aacda6f6d",
   "metadata": {},
   "outputs": [
    {
     "name": "stdout",
     "output_type": "stream",
     "text": [
      "a :  (10, 20, 30)\n",
      "b :  {'a': 50, 'b': 39}\n"
     ]
    }
   ],
   "source": [
    "def sample(*a, **b):\n",
    "    print(\"a : \", a)\n",
    "    print(\"b : \", b)\n",
    "\n",
    "sample(10,20,30,a=50,b=39)"
   ]
  },
  {
   "cell_type": "code",
   "execution_count": 30,
   "id": "39160401-12ff-43c0-8aaf-5f824c431a78",
   "metadata": {},
   "outputs": [
    {
     "name": "stdout",
     "output_type": "stream",
     "text": [
      "a :  10\n",
      "b :  20\n",
      "c :  (30, 40, 50)\n",
      "d :  10\n",
      "e :  {'ten': 10, 'thundread': 100}\n"
     ]
    }
   ],
   "source": [
    "def sample(a, b, *c, d=10, **e):\n",
    "    print(\"a : \", a)\n",
    "    print(\"b : \", b)\n",
    "    print(\"c : \", c)\n",
    "    print(\"d : \", d)\n",
    "    print(\"e : \", e)\n",
    "    \n",
    "sample(10,20,30,40,50,ten=10,thundread=100)"
   ]
  },
  {
   "cell_type": "code",
   "execution_count": 31,
   "id": "8911d72e-a3bd-4bd4-8786-493517219877",
   "metadata": {},
   "outputs": [
    {
     "name": "stdout",
     "output_type": "stream",
     "text": [
      "{'a': 10, 'b': 20, 'c': 500, 'd': 10, 'e': 20}\n"
     ]
    }
   ],
   "source": [
    "dict1 = dict(a=10,b=20,c=50)\n",
    "dict2 = dict(d=10,e=20,c=500)\n",
    "print({**dict1, **dict2}) # un-packed"
   ]
  }
 ],
 "metadata": {
  "kernelspec": {
   "display_name": "Python 3 (ipykernel)",
   "language": "python",
   "name": "python3"
  },
  "language_info": {
   "codemirror_mode": {
    "name": "ipython",
    "version": 3
   },
   "file_extension": ".py",
   "mimetype": "text/x-python",
   "name": "python",
   "nbconvert_exporter": "python",
   "pygments_lexer": "ipython3",
   "version": "3.8.5"
  }
 },
 "nbformat": 4,
 "nbformat_minor": 5
}
